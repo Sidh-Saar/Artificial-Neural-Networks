{
  "nbformat": 4,
  "nbformat_minor": 0,
  "metadata": {
    "colab": {
      "provenance": []
    },
    "kernelspec": {
      "name": "python3",
      "display_name": "Python 3"
    }
  },
  "cells": [
    {
      "cell_type": "markdown",
      "metadata": {
        "id": "lP6JLo1tGNBg"
      },
      "source": [
        "# Artificial Neural Network"
      ]
    },
    {
      "cell_type": "markdown",
      "metadata": {
        "id": "gWZyYmS_UE_L"
      },
      "source": [
        "### Importing the libraries\n",
        "\n",
        "Here, we import NumPy, Pandas, and Tensorflow to make our code shorter and more efficient!"
      ]
    },
    {
      "cell_type": "code",
      "metadata": {
        "id": "MxkJoQBkUIHC"
      },
      "source": [
        "import numpy as np\n",
        "import pandas as pd\n",
        "import tensorflow as tf"
      ],
      "execution_count": null,
      "outputs": []
    },
    {
      "cell_type": "code",
      "source": [
        "tf.__version__"
      ],
      "metadata": {
        "colab": {
          "base_uri": "https://localhost:8080/",
          "height": 35
        },
        "id": "Gv5ZIUttorlU",
        "outputId": "6e1d8542-2ddb-4a18-bd5c-d2b8c43ff512"
      },
      "execution_count": null,
      "outputs": [
        {
          "output_type": "execute_result",
          "data": {
            "text/plain": [
              "'2.12.0'"
            ],
            "application/vnd.google.colaboratory.intrinsic+json": {
              "type": "string"
            }
          },
          "metadata": {},
          "execution_count": 25
        }
      ]
    },
    {
      "cell_type": "markdown",
      "metadata": {
        "id": "1E0Q3aoKUCRX"
      },
      "source": [
        "## Part 1 - Data Preprocessing"
      ]
    },
    {
      "cell_type": "markdown",
      "metadata": {
        "id": "cKWAkFVGUU0Z"
      },
      "source": [
        "### Importing the dataset\n",
        "\n",
        "This dataset provides numerous variables, used to predict if a customer stays with a bank!"
      ]
    },
    {
      "cell_type": "code",
      "source": [
        "dataset = pd.read_csv('Churn_Modelling.csv')\n",
        "X = dataset.iloc[:, 3:-1].values\n",
        "y = dataset.iloc[:, -1].values"
      ],
      "metadata": {
        "id": "l3A8vBv8pSUB"
      },
      "execution_count": null,
      "outputs": []
    },
    {
      "cell_type": "code",
      "source": [
        "print(X)"
      ],
      "metadata": {
        "colab": {
          "base_uri": "https://localhost:8080/"
        },
        "id": "fhEa10LjqpdA",
        "outputId": "cecdab27-b22f-43c6-ded7-78425e9fd8a1"
      },
      "execution_count": null,
      "outputs": [
        {
          "output_type": "stream",
          "name": "stdout",
          "text": [
            "[[619 'France' 'Female' ... 1 1 101348.88]\n",
            " [608 'Spain' 'Female' ... 0 1 112542.58]\n",
            " [502 'France' 'Female' ... 1 0 113931.57]\n",
            " ...\n",
            " [709 'France' 'Female' ... 0 1 42085.58]\n",
            " [772 'Germany' 'Male' ... 1 0 92888.52]\n",
            " [792 'France' 'Female' ... 1 0 38190.78]]\n"
          ]
        }
      ]
    },
    {
      "cell_type": "code",
      "source": [
        "print(y)"
      ],
      "metadata": {
        "colab": {
          "base_uri": "https://localhost:8080/"
        },
        "id": "GfxmxVRTqplN",
        "outputId": "0953495c-a87d-42f9-ea5e-76fc54d25501"
      },
      "execution_count": null,
      "outputs": [
        {
          "output_type": "stream",
          "name": "stdout",
          "text": [
            "[1 0 1 ... 1 1 0]\n"
          ]
        }
      ]
    },
    {
      "cell_type": "markdown",
      "metadata": {
        "id": "N6bQ0UgSU-NJ"
      },
      "source": [
        "### Encoding categorical data"
      ]
    },
    {
      "cell_type": "markdown",
      "metadata": {
        "id": "le5MJreAbW52"
      },
      "source": [
        "Label Encoding the \"Gender\" column"
      ]
    },
    {
      "cell_type": "code",
      "source": [
        "from sklearn.preprocessing import LabelEncoder\n",
        "le = LabelEncoder()\n",
        "X[:,2] = le.fit_transform(X[:,2])"
      ],
      "metadata": {
        "id": "Dif87WUEQ4z7"
      },
      "execution_count": null,
      "outputs": []
    },
    {
      "cell_type": "code",
      "source": [
        "print(X)"
      ],
      "metadata": {
        "colab": {
          "base_uri": "https://localhost:8080/"
        },
        "id": "JoWs_wRlRdlx",
        "outputId": "10b9589c-1f8c-4bf5-999e-a3a9239093c4"
      },
      "execution_count": null,
      "outputs": [
        {
          "output_type": "stream",
          "name": "stdout",
          "text": [
            "[[619 'France' 0 ... 1 1 101348.88]\n",
            " [608 'Spain' 0 ... 0 1 112542.58]\n",
            " [502 'France' 0 ... 1 0 113931.57]\n",
            " ...\n",
            " [709 'France' 0 ... 0 1 42085.58]\n",
            " [772 'Germany' 1 ... 1 0 92888.52]\n",
            " [792 'France' 0 ... 1 0 38190.78]]\n"
          ]
        }
      ]
    },
    {
      "cell_type": "markdown",
      "metadata": {
        "id": "CUxGZezpbMcb"
      },
      "source": [
        "One Hot Encoding the \"Geography\" column\n",
        "\n",
        "Here, we use OneHotEncoding to convert the categorical data of the \"Geography\" column into numerical data!"
      ]
    },
    {
      "cell_type": "code",
      "source": [
        "from sklearn.compose import ColumnTransformer\n",
        "from sklearn.preprocessing import OneHotEncoder\n",
        "ct = ColumnTransformer(transformers=[('encoder', OneHotEncoder(), [1])], remainder='passthrough')\n",
        "X = np.array(ct.fit_transform(X))"
      ],
      "metadata": {
        "id": "YSEKc944R4qU"
      },
      "execution_count": null,
      "outputs": []
    },
    {
      "cell_type": "code",
      "source": [
        "print(X)"
      ],
      "metadata": {
        "colab": {
          "base_uri": "https://localhost:8080/"
        },
        "id": "KtM6uuQ_SMsl",
        "outputId": "5ae0db45-feb7-4177-8ead-a14b13dc495c"
      },
      "execution_count": null,
      "outputs": [
        {
          "output_type": "stream",
          "name": "stdout",
          "text": [
            "[[1.0 0.0 0.0 ... 1 1 101348.88]\n",
            " [0.0 0.0 1.0 ... 0 1 112542.58]\n",
            " [1.0 0.0 0.0 ... 1 0 113931.57]\n",
            " ...\n",
            " [1.0 0.0 0.0 ... 0 1 42085.58]\n",
            " [0.0 1.0 0.0 ... 1 0 92888.52]\n",
            " [1.0 0.0 0.0 ... 1 0 38190.78]]\n"
          ]
        }
      ]
    },
    {
      "cell_type": "markdown",
      "metadata": {
        "id": "vHol938cW8zd"
      },
      "source": [
        "### Splitting the dataset into the Training set and Test set\n",
        "\n",
        "Here, we split the dataset into a training set and test set. We will train our model on the training set, then test its accuracy on the test set!"
      ]
    },
    {
      "cell_type": "code",
      "source": [
        "from sklearn.model_selection import train_test_split\n",
        "X_train, X_test, y_train, y_test = train_test_split(X, y, test_size = 0.25, random_state = 0)"
      ],
      "metadata": {
        "id": "q-oF4gKzSizP"
      },
      "execution_count": null,
      "outputs": []
    },
    {
      "cell_type": "markdown",
      "metadata": {
        "id": "RE_FcHyfV3TQ"
      },
      "source": [
        "### Feature Scaling\n",
        "\n",
        "From the scikit learn library, we import the standardscaler class to normalize the data. This ensures that all features are interpreted on the same scale."
      ]
    },
    {
      "cell_type": "code",
      "source": [
        "from sklearn.preprocessing import StandardScaler\n",
        "sc = StandardScaler()\n",
        "X_train = sc.fit_transform(X_train)\n",
        "X_test = sc.transform(X_test)"
      ],
      "metadata": {
        "id": "zYy-hoJDSm0s"
      },
      "execution_count": null,
      "outputs": []
    },
    {
      "cell_type": "markdown",
      "metadata": {
        "id": "-zfEzkRVXIwF"
      },
      "source": [
        "## Part 2 - Building the ANN"
      ]
    },
    {
      "cell_type": "markdown",
      "metadata": {
        "id": "KvdeScabXtlB"
      },
      "source": [
        "### Initializing the ANN"
      ]
    },
    {
      "cell_type": "code",
      "source": [
        "ann = tf.keras.models.Sequential()"
      ],
      "metadata": {
        "id": "HJ96AwRwXK1C"
      },
      "execution_count": null,
      "outputs": []
    },
    {
      "cell_type": "markdown",
      "metadata": {
        "id": "rP6urV6SX7kS"
      },
      "source": [
        "### Adding the input layer and the first hidden layer"
      ]
    },
    {
      "cell_type": "code",
      "source": [
        "ann.add(tf.keras.layers.Dense(units=6, activation='relu'))"
      ],
      "metadata": {
        "id": "RrIXNwGbXaAx"
      },
      "execution_count": null,
      "outputs": []
    },
    {
      "cell_type": "markdown",
      "metadata": {
        "id": "BELWAc_8YJze"
      },
      "source": [
        "### Adding the second hidden layer"
      ]
    },
    {
      "cell_type": "code",
      "source": [
        "ann.add(tf.keras.layers.Dense(units=6, activation='relu'))"
      ],
      "metadata": {
        "id": "-9oyRN6daIhQ"
      },
      "execution_count": null,
      "outputs": []
    },
    {
      "cell_type": "markdown",
      "metadata": {
        "id": "OyNEe6RXYcU4"
      },
      "source": [
        "### Adding the output layer"
      ]
    },
    {
      "cell_type": "code",
      "source": [
        "ann.add(tf.keras.layers.Dense(units=1 , activation='sigmoid'))"
      ],
      "metadata": {
        "id": "ULJ-a7HMaXcP"
      },
      "execution_count": null,
      "outputs": []
    },
    {
      "cell_type": "markdown",
      "metadata": {
        "id": "JT4u2S1_Y4WG"
      },
      "source": [
        "## Part 3 - Training the ANN"
      ]
    },
    {
      "cell_type": "markdown",
      "metadata": {
        "id": "8GWlJChhY_ZI"
      },
      "source": [
        "### Compiling the ANN"
      ]
    },
    {
      "cell_type": "code",
      "source": [
        "ann.compile(optimizer = 'adam', loss = 'binary_crossentropy', metrics = ['accuracy'])"
      ],
      "metadata": {
        "id": "HKfy385SbHUI"
      },
      "execution_count": null,
      "outputs": []
    },
    {
      "cell_type": "markdown",
      "metadata": {
        "id": "0QR_G5u7ZLSM"
      },
      "source": [
        "### Training the ANN on the Training set"
      ]
    },
    {
      "cell_type": "code",
      "source": [
        "ann.fit(X_train, y_train, batch_size=32, epochs = 100)"
      ],
      "metadata": {
        "colab": {
          "base_uri": "https://localhost:8080/"
        },
        "id": "DSPq8zKLcpiZ",
        "outputId": "0d66549c-36b2-4fdc-83e5-a1f8545ba7fd"
      },
      "execution_count": null,
      "outputs": [
        {
          "output_type": "stream",
          "name": "stdout",
          "text": [
            "Epoch 1/100\n",
            "235/235 [==============================] - 2s 2ms/step - loss: 0.5500 - accuracy: 0.7796\n",
            "Epoch 2/100\n",
            "235/235 [==============================] - 0s 2ms/step - loss: 0.4743 - accuracy: 0.7963\n",
            "Epoch 3/100\n",
            "235/235 [==============================] - 0s 2ms/step - loss: 0.4499 - accuracy: 0.7963\n",
            "Epoch 4/100\n",
            "235/235 [==============================] - 0s 2ms/step - loss: 0.4384 - accuracy: 0.7963\n",
            "Epoch 5/100\n",
            "235/235 [==============================] - 0s 2ms/step - loss: 0.4323 - accuracy: 0.7999\n",
            "Epoch 6/100\n",
            "235/235 [==============================] - 0s 2ms/step - loss: 0.4271 - accuracy: 0.8059\n",
            "Epoch 7/100\n",
            "235/235 [==============================] - 0s 2ms/step - loss: 0.4214 - accuracy: 0.8144\n",
            "Epoch 8/100\n",
            "235/235 [==============================] - 0s 2ms/step - loss: 0.4155 - accuracy: 0.8195\n",
            "Epoch 9/100\n",
            "235/235 [==============================] - 0s 2ms/step - loss: 0.4097 - accuracy: 0.8231\n",
            "Epoch 10/100\n",
            "235/235 [==============================] - 0s 2ms/step - loss: 0.4034 - accuracy: 0.8232\n",
            "Epoch 11/100\n",
            "235/235 [==============================] - 0s 2ms/step - loss: 0.3982 - accuracy: 0.8284\n",
            "Epoch 12/100\n",
            "235/235 [==============================] - 0s 2ms/step - loss: 0.3941 - accuracy: 0.8292\n",
            "Epoch 13/100\n",
            "235/235 [==============================] - 0s 2ms/step - loss: 0.3900 - accuracy: 0.8313\n",
            "Epoch 14/100\n",
            "235/235 [==============================] - 0s 2ms/step - loss: 0.3859 - accuracy: 0.8349\n",
            "Epoch 15/100\n",
            "235/235 [==============================] - 0s 2ms/step - loss: 0.3812 - accuracy: 0.8395\n",
            "Epoch 16/100\n",
            "235/235 [==============================] - 0s 2ms/step - loss: 0.3739 - accuracy: 0.8471\n",
            "Epoch 17/100\n",
            "235/235 [==============================] - 0s 2ms/step - loss: 0.3659 - accuracy: 0.8513\n",
            "Epoch 18/100\n",
            "235/235 [==============================] - 0s 2ms/step - loss: 0.3588 - accuracy: 0.8548\n",
            "Epoch 19/100\n",
            "235/235 [==============================] - 0s 2ms/step - loss: 0.3541 - accuracy: 0.8565\n",
            "Epoch 20/100\n",
            "235/235 [==============================] - 1s 3ms/step - loss: 0.3502 - accuracy: 0.8585\n",
            "Epoch 21/100\n",
            "235/235 [==============================] - 1s 3ms/step - loss: 0.3478 - accuracy: 0.8588\n",
            "Epoch 22/100\n",
            "235/235 [==============================] - 1s 3ms/step - loss: 0.3457 - accuracy: 0.8593\n",
            "Epoch 23/100\n",
            "235/235 [==============================] - 1s 3ms/step - loss: 0.3448 - accuracy: 0.8596\n",
            "Epoch 24/100\n",
            "235/235 [==============================] - 1s 3ms/step - loss: 0.3434 - accuracy: 0.8591\n",
            "Epoch 25/100\n",
            "235/235 [==============================] - 0s 2ms/step - loss: 0.3427 - accuracy: 0.8587\n",
            "Epoch 26/100\n",
            "235/235 [==============================] - 0s 2ms/step - loss: 0.3421 - accuracy: 0.8604\n",
            "Epoch 27/100\n",
            "235/235 [==============================] - 0s 2ms/step - loss: 0.3418 - accuracy: 0.8611\n",
            "Epoch 28/100\n",
            "235/235 [==============================] - 0s 2ms/step - loss: 0.3413 - accuracy: 0.8593\n",
            "Epoch 29/100\n",
            "235/235 [==============================] - 0s 2ms/step - loss: 0.3405 - accuracy: 0.8607\n",
            "Epoch 30/100\n",
            "235/235 [==============================] - 0s 2ms/step - loss: 0.3399 - accuracy: 0.8593\n",
            "Epoch 31/100\n",
            "235/235 [==============================] - 0s 2ms/step - loss: 0.3397 - accuracy: 0.8607\n",
            "Epoch 32/100\n",
            "235/235 [==============================] - 0s 2ms/step - loss: 0.3392 - accuracy: 0.8604\n",
            "Epoch 33/100\n",
            "235/235 [==============================] - 0s 2ms/step - loss: 0.3390 - accuracy: 0.8599\n",
            "Epoch 34/100\n",
            "235/235 [==============================] - 0s 2ms/step - loss: 0.3386 - accuracy: 0.8603\n",
            "Epoch 35/100\n",
            "235/235 [==============================] - 0s 2ms/step - loss: 0.3381 - accuracy: 0.8603\n",
            "Epoch 36/100\n",
            "235/235 [==============================] - 0s 2ms/step - loss: 0.3381 - accuracy: 0.8612\n",
            "Epoch 37/100\n",
            "235/235 [==============================] - 0s 2ms/step - loss: 0.3375 - accuracy: 0.8616\n",
            "Epoch 38/100\n",
            "235/235 [==============================] - 0s 2ms/step - loss: 0.3374 - accuracy: 0.8620\n",
            "Epoch 39/100\n",
            "235/235 [==============================] - 0s 2ms/step - loss: 0.3372 - accuracy: 0.8615\n",
            "Epoch 40/100\n",
            "235/235 [==============================] - 0s 2ms/step - loss: 0.3369 - accuracy: 0.8609\n",
            "Epoch 41/100\n",
            "235/235 [==============================] - 0s 2ms/step - loss: 0.3367 - accuracy: 0.8619\n",
            "Epoch 42/100\n",
            "235/235 [==============================] - 0s 2ms/step - loss: 0.3363 - accuracy: 0.8621\n",
            "Epoch 43/100\n",
            "235/235 [==============================] - 0s 2ms/step - loss: 0.3367 - accuracy: 0.8603\n",
            "Epoch 44/100\n",
            "235/235 [==============================] - 0s 2ms/step - loss: 0.3359 - accuracy: 0.8617\n",
            "Epoch 45/100\n",
            "235/235 [==============================] - 0s 2ms/step - loss: 0.3359 - accuracy: 0.8637\n",
            "Epoch 46/100\n",
            "235/235 [==============================] - 0s 2ms/step - loss: 0.3348 - accuracy: 0.8647\n",
            "Epoch 47/100\n",
            "235/235 [==============================] - 1s 3ms/step - loss: 0.3358 - accuracy: 0.8631\n",
            "Epoch 48/100\n",
            "235/235 [==============================] - 1s 3ms/step - loss: 0.3353 - accuracy: 0.8647\n",
            "Epoch 49/100\n",
            "235/235 [==============================] - 1s 3ms/step - loss: 0.3356 - accuracy: 0.8635\n",
            "Epoch 50/100\n",
            "235/235 [==============================] - 1s 3ms/step - loss: 0.3355 - accuracy: 0.8625\n",
            "Epoch 51/100\n",
            "235/235 [==============================] - 1s 3ms/step - loss: 0.3349 - accuracy: 0.8629\n",
            "Epoch 52/100\n",
            "235/235 [==============================] - 0s 2ms/step - loss: 0.3348 - accuracy: 0.8640\n",
            "Epoch 53/100\n",
            "235/235 [==============================] - 0s 2ms/step - loss: 0.3344 - accuracy: 0.8637\n",
            "Epoch 54/100\n",
            "235/235 [==============================] - 0s 2ms/step - loss: 0.3347 - accuracy: 0.8629\n",
            "Epoch 55/100\n",
            "235/235 [==============================] - 0s 2ms/step - loss: 0.3346 - accuracy: 0.8648\n",
            "Epoch 56/100\n",
            "235/235 [==============================] - 0s 2ms/step - loss: 0.3343 - accuracy: 0.8633\n",
            "Epoch 57/100\n",
            "235/235 [==============================] - 0s 2ms/step - loss: 0.3339 - accuracy: 0.8629\n",
            "Epoch 58/100\n",
            "235/235 [==============================] - 0s 2ms/step - loss: 0.3342 - accuracy: 0.8640\n",
            "Epoch 59/100\n",
            "235/235 [==============================] - 0s 2ms/step - loss: 0.3341 - accuracy: 0.8648\n",
            "Epoch 60/100\n",
            "235/235 [==============================] - 0s 2ms/step - loss: 0.3344 - accuracy: 0.8633\n",
            "Epoch 61/100\n",
            "235/235 [==============================] - 0s 2ms/step - loss: 0.3340 - accuracy: 0.8645\n",
            "Epoch 62/100\n",
            "235/235 [==============================] - 0s 2ms/step - loss: 0.3339 - accuracy: 0.8633\n",
            "Epoch 63/100\n",
            "235/235 [==============================] - 0s 2ms/step - loss: 0.3339 - accuracy: 0.8643\n",
            "Epoch 64/100\n",
            "235/235 [==============================] - 0s 2ms/step - loss: 0.3336 - accuracy: 0.8635\n",
            "Epoch 65/100\n",
            "235/235 [==============================] - 0s 2ms/step - loss: 0.3338 - accuracy: 0.8647\n",
            "Epoch 66/100\n",
            "235/235 [==============================] - 0s 2ms/step - loss: 0.3336 - accuracy: 0.8656\n",
            "Epoch 67/100\n",
            "235/235 [==============================] - 0s 2ms/step - loss: 0.3333 - accuracy: 0.8643\n",
            "Epoch 68/100\n",
            "235/235 [==============================] - 0s 2ms/step - loss: 0.3336 - accuracy: 0.8648\n",
            "Epoch 69/100\n",
            "235/235 [==============================] - 0s 2ms/step - loss: 0.3335 - accuracy: 0.8643\n",
            "Epoch 70/100\n",
            "235/235 [==============================] - 0s 2ms/step - loss: 0.3334 - accuracy: 0.8631\n",
            "Epoch 71/100\n",
            "235/235 [==============================] - 0s 2ms/step - loss: 0.3331 - accuracy: 0.8657\n",
            "Epoch 72/100\n",
            "235/235 [==============================] - 0s 2ms/step - loss: 0.3329 - accuracy: 0.8639\n",
            "Epoch 73/100\n",
            "235/235 [==============================] - 0s 2ms/step - loss: 0.3331 - accuracy: 0.8633\n",
            "Epoch 74/100\n",
            "235/235 [==============================] - 1s 3ms/step - loss: 0.3330 - accuracy: 0.8645\n",
            "Epoch 75/100\n",
            "235/235 [==============================] - 1s 3ms/step - loss: 0.3327 - accuracy: 0.8633\n",
            "Epoch 76/100\n",
            "235/235 [==============================] - 1s 3ms/step - loss: 0.3325 - accuracy: 0.8632\n",
            "Epoch 77/100\n",
            "235/235 [==============================] - 1s 3ms/step - loss: 0.3328 - accuracy: 0.8633\n",
            "Epoch 78/100\n",
            "235/235 [==============================] - 1s 2ms/step - loss: 0.3328 - accuracy: 0.8631\n",
            "Epoch 79/100\n",
            "235/235 [==============================] - 0s 2ms/step - loss: 0.3324 - accuracy: 0.8640\n",
            "Epoch 80/100\n",
            "235/235 [==============================] - 0s 2ms/step - loss: 0.3325 - accuracy: 0.8636\n",
            "Epoch 81/100\n",
            "235/235 [==============================] - 0s 2ms/step - loss: 0.3323 - accuracy: 0.8653\n",
            "Epoch 82/100\n",
            "235/235 [==============================] - 0s 2ms/step - loss: 0.3325 - accuracy: 0.8643\n",
            "Epoch 83/100\n",
            "235/235 [==============================] - 0s 2ms/step - loss: 0.3324 - accuracy: 0.8632\n",
            "Epoch 84/100\n",
            "235/235 [==============================] - 0s 2ms/step - loss: 0.3325 - accuracy: 0.8651\n",
            "Epoch 85/100\n",
            "235/235 [==============================] - 0s 2ms/step - loss: 0.3324 - accuracy: 0.8647\n",
            "Epoch 86/100\n",
            "235/235 [==============================] - 0s 2ms/step - loss: 0.3324 - accuracy: 0.8641\n",
            "Epoch 87/100\n",
            "235/235 [==============================] - 0s 2ms/step - loss: 0.3321 - accuracy: 0.8617\n",
            "Epoch 88/100\n",
            "235/235 [==============================] - 0s 2ms/step - loss: 0.3325 - accuracy: 0.8640\n",
            "Epoch 89/100\n",
            "235/235 [==============================] - 0s 2ms/step - loss: 0.3323 - accuracy: 0.8647\n",
            "Epoch 90/100\n",
            "235/235 [==============================] - 0s 2ms/step - loss: 0.3317 - accuracy: 0.8645\n",
            "Epoch 91/100\n",
            "235/235 [==============================] - 0s 2ms/step - loss: 0.3320 - accuracy: 0.8639\n",
            "Epoch 92/100\n",
            "235/235 [==============================] - 0s 2ms/step - loss: 0.3319 - accuracy: 0.8639\n",
            "Epoch 93/100\n",
            "235/235 [==============================] - 0s 2ms/step - loss: 0.3319 - accuracy: 0.8640\n",
            "Epoch 94/100\n",
            "235/235 [==============================] - 0s 2ms/step - loss: 0.3316 - accuracy: 0.8632\n",
            "Epoch 95/100\n",
            "235/235 [==============================] - 0s 2ms/step - loss: 0.3315 - accuracy: 0.8648\n",
            "Epoch 96/100\n",
            "235/235 [==============================] - 0s 2ms/step - loss: 0.3320 - accuracy: 0.8647\n",
            "Epoch 97/100\n",
            "235/235 [==============================] - 0s 2ms/step - loss: 0.3317 - accuracy: 0.8637\n",
            "Epoch 98/100\n",
            "235/235 [==============================] - 0s 2ms/step - loss: 0.3316 - accuracy: 0.8644\n",
            "Epoch 99/100\n",
            "235/235 [==============================] - 1s 2ms/step - loss: 0.3319 - accuracy: 0.8631\n",
            "Epoch 100/100\n",
            "235/235 [==============================] - 1s 3ms/step - loss: 0.3319 - accuracy: 0.8645\n"
          ]
        },
        {
          "output_type": "execute_result",
          "data": {
            "text/plain": [
              "<keras.callbacks.History at 0x789fe419db40>"
            ]
          },
          "metadata": {},
          "execution_count": 44
        }
      ]
    },
    {
      "cell_type": "markdown",
      "metadata": {
        "id": "tJj5k2MxZga3"
      },
      "source": [
        "## Part 4 - Making the predictions and evaluating the model"
      ]
    },
    {
      "cell_type": "markdown",
      "metadata": {
        "id": "84QFoqGYeXHL"
      },
      "source": [
        "### Predicting the result of a single observation"
      ]
    },
    {
      "cell_type": "code",
      "source": [
        "print(ann.predict(sc.transform([[1, 0, 0, 600, 1, 40, 3, 60000, 2, 1, 1, 50000 ]]))>0.5)"
      ],
      "metadata": {
        "colab": {
          "base_uri": "https://localhost:8080/"
        },
        "id": "nZVqJNVielJA",
        "outputId": "fe54cc66-52f3-4127-8f6a-fac29207e781"
      },
      "execution_count": null,
      "outputs": [
        {
          "output_type": "stream",
          "name": "stdout",
          "text": [
            "1/1 [==============================] - 0s 23ms/step\n",
            "[[False]]\n"
          ]
        }
      ]
    },
    {
      "cell_type": "markdown",
      "metadata": {
        "id": "wGjx94g2n7OV"
      },
      "source": [
        "Therefore, our ANN model predicts that this customer stays in the bank!\n"
      ]
    },
    {
      "cell_type": "markdown",
      "metadata": {
        "id": "u7yx47jPZt11"
      },
      "source": [
        "### Predicting the Test set results"
      ]
    },
    {
      "cell_type": "code",
      "source": [
        "y_pred = ann.predict(X_test)\n",
        "y_pred = (y_pred >  0.5 )\n",
        "print(np.concatenate((y_pred.reshape(len(y_pred),1), y_test.reshape(len(y_test),1)),1))"
      ],
      "metadata": {
        "colab": {
          "base_uri": "https://localhost:8080/"
        },
        "id": "SLFUImVRiE6n",
        "outputId": "b2eb0784-28d6-4101-bc7d-e8c8d170548f"
      },
      "execution_count": null,
      "outputs": [
        {
          "output_type": "stream",
          "name": "stdout",
          "text": [
            "79/79 [==============================] - 0s 2ms/step\n",
            "[[0 0]\n",
            " [0 1]\n",
            " [0 0]\n",
            " ...\n",
            " [0 0]\n",
            " [0 0]\n",
            " [0 0]]\n"
          ]
        }
      ]
    },
    {
      "cell_type": "markdown",
      "metadata": {
        "id": "o0oyfLWoaEGw"
      },
      "source": [
        "### Making the Confusion Matrix"
      ]
    },
    {
      "cell_type": "code",
      "source": [
        "from sklearn.metrics import confusion_matrix, accuracy_score\n",
        "cm = confusion_matrix(y_test, y_pred)\n",
        "print(cm)\n",
        "accuracy_score(y_test, y_pred)"
      ],
      "metadata": {
        "colab": {
          "base_uri": "https://localhost:8080/"
        },
        "id": "fdfqbnmVirqW",
        "outputId": "d1f51ab5-9e33-4a70-8451-fbfa8588a035"
      },
      "execution_count": null,
      "outputs": [
        {
          "output_type": "stream",
          "name": "stdout",
          "text": [
            "[[1885  106]\n",
            " [ 244  265]]\n"
          ]
        },
        {
          "output_type": "execute_result",
          "data": {
            "text/plain": [
              "0.86"
            ]
          },
          "metadata": {},
          "execution_count": 51
        }
      ]
    }
  ]
}